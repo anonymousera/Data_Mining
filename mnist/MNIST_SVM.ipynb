{
  "nbformat": 4,
  "nbformat_minor": 0,
  "metadata": {
    "colab": {
      "provenance": []
    },
    "kernelspec": {
      "name": "python3",
      "display_name": "Python 3"
    },
    "language_info": {
      "name": "python"
    }
  },
  "cells": [
    {
      "cell_type": "code",
      "execution_count": null,
      "metadata": {
        "id": "9dwJlfE6-mEk",
        "colab": {
          "base_uri": "https://localhost:8080/",
          "height": 1000
        },
        "outputId": "bbee729a-bbb5-4dde-d913-5bd284ade673"
      },
      "outputs": [
        {
          "output_type": "stream",
          "name": "stderr",
          "text": [
            "/usr/local/lib/python3.9/dist-packages/sklearn/datasets/_openml.py:968: FutureWarning: The default value of `parser` will change from `'liac-arff'` to `'auto'` in 1.4. You can set `parser='auto'` to silence this warning. Therefore, an `ImportError` will be raised from 1.4 if the dataset is dense and pandas is not installed. Note that the pandas parser may return different data types. See the Notes Section in fetch_openml's API doc for details.\n",
            "  warn(\n",
            "/usr/local/lib/python3.9/dist-packages/sklearn/feature_selection/_univariate_selection.py:112: UserWarning: Features [  0   1   2   3   4   5   6   7   8   9  10  11  16  17  18  19  20  21\n",
            "  22  23  24  25  26  27  28  29  30  31  52  53  54  55  56  57  58  82\n",
            "  83  84  85 111 112 140 168 196 476 560 644 671 672 673 699 700 701 727\n",
            " 728 729 730 731 754 755 756 757 758 759 780 781 782 783] are constant.\n",
            "  warnings.warn(\"Features %s are constant.\" % constant_features_idx, UserWarning)\n",
            "/usr/local/lib/python3.9/dist-packages/sklearn/feature_selection/_univariate_selection.py:113: RuntimeWarning: invalid value encountered in true_divide\n",
            "  f = msb / msw\n",
            "/usr/local/lib/python3.9/dist-packages/sklearn/model_selection/_search.py:305: UserWarning: The total space of parameters 1 is smaller than n_iter=5. Running 1 iterations. For exhaustive searches, use GridSearchCV.\n",
            "  warnings.warn(\n"
          ]
        },
        {
          "output_type": "stream",
          "name": "stdout",
          "text": [
            "Best parameters:  {'kernel': 'linear', 'gamma': 'auto', 'C': 5}\n",
            "Accuracy:  0.9109107142857142\n",
            "Accuracy: 0.9178571428571428\n",
            "Confusion matrix:\n",
            "[[1301    1    5    2    3   10   10    2    7    2]\n",
            " [   1 1559    3   11    2    4    0    8    9    3]\n",
            " [  10   15 1254   15   19    7   17   19   22    2]\n",
            " [   5    8   32 1280    2   54    6   15   25    6]\n",
            " [   3    4   11    3 1185    3    7    5    4   70]\n",
            " [   7    8   12   62    7 1135   18    1   15    8]\n",
            " [  11    4   24    2   13   19 1321    0    2    0]\n",
            " [   3   11   30    4   14    3    2 1409    4   23]\n",
            " [  12   16   18   44    9   39   14   16 1177   12]\n",
            " [  11   12    8   19   78    6    0   43   14 1229]]\n",
            "Classification report:\n",
            "              precision    recall  f1-score   support\n",
            "\n",
            "           0       0.95      0.97      0.96      1343\n",
            "           1       0.95      0.97      0.96      1600\n",
            "           2       0.90      0.91      0.90      1380\n",
            "           3       0.89      0.89      0.89      1433\n",
            "           4       0.89      0.92      0.90      1295\n",
            "           5       0.89      0.89      0.89      1273\n",
            "           6       0.95      0.95      0.95      1396\n",
            "           7       0.93      0.94      0.93      1503\n",
            "           8       0.92      0.87      0.89      1357\n",
            "           9       0.91      0.87      0.89      1420\n",
            "\n",
            "    accuracy                           0.92     14000\n",
            "   macro avg       0.92      0.92      0.92     14000\n",
            "weighted avg       0.92      0.92      0.92     14000\n",
            "\n"
          ]
        },
        {
          "output_type": "display_data",
          "data": {
            "text/plain": [
              "<Figure size 288x288 with 2 Axes>"
            ],
            "image/png": "[encoded data removed]"
          },
          "metadata": {
            "needs_background": "light"
          }
        }
      ],
      "source": [
        "import numpy as np\n",
        "import matplotlib.pyplot as plt\n",
        "from sklearn.datasets import fetch_openml\n",
        "from sklearn.model_selection import train_test_split\n",
        "from sklearn.svm import SVC\n",
        "from sklearn.feature_selection import SelectKBest, f_classif\n",
        "from sklearn.preprocessing import StandardScaler\n",
        "from sklearn.model_selection import GridSearchCV, RandomizedSearchCV, KFold\n",
        "from sklearn.metrics import confusion_matrix, classification_report\n",
        "\n",
        "# Load the MNIST dataset\n",
        "mnist = fetch_openml('mnist_784', version=1)\n",
        "\n",
        "# Split the dataset into training and testing sets\n",
        "X_train, X_test, y_train, y_test = train_test_split(mnist.data, mnist.target, test_size=0.2, random_state=42)\n",
        "\n",
        "# Feature selection using SelectKBest\n",
        "selector = SelectKBest(f_classif, k=200)\n",
        "X_train = selector.fit_transform(X_train, y_train)\n",
        "X_test = selector.transform(X_test)\n",
        "\n",
        "# Normalization of attributes using StandardScaler\n",
        "scaler = StandardScaler()\n",
        "X_train = scaler.fit_transform(X_train)\n",
        "X_test = scaler.transform(X_test)\n",
        "\n",
        "# SVM classifier\n",
        "svm = SVC(kernel='linear')\n",
        "\n",
        "# Define parameter grid for random search\n",
        "param_dist = {'C': np.logspace(-3, 3, 7), 'kernel': ['linear', 'rbf', 'sigmoid'], 'gamma': ['scale', 'auto']}\n",
        "n_iter_search = 5\n",
        "\n",
        "# Perform random search\n",
        "random_search = RandomizedSearchCV(svm, param_distributions=param_dist, n_iter=n_iter_search, cv=5)\n",
        "random_search.fit(X_train, y_train)\n",
        "\n",
        "# Print best parameters and accuracy\n",
        "print(\"Best parameters: \", random_search.best_params_)\n",
        "print(\"Accuracy: \", random_search.best_score_)\n",
        "\n",
        "# Train the classifier\n",
        "svm.fit(X_train, y_train)\n",
        "\n",
        "# Predict the labels of the test set\n",
        "y_pred = svm.predict(X_test)\n",
        "\n",
        "# Evaluation metrics\n",
        "accuracy = svm.score(X_test, y_test)\n",
        "cm = confusion_matrix(y_test, y_pred)\n",
        "report = classification_report(y_test, y_pred)\n",
        "\n",
        "# Print the evaluation metrics\n",
        "print(f\"Accuracy: {accuracy}\")\n",
        "print(f\"Confusion matrix:\\n{cm}\")\n",
        "print(f\"Classification report:\\n{report}\")\n",
        "\n",
        "# Visualize the confusion matrix\n",
        "plt.matshow(cm)\n",
        "plt.colorbar()\n",
        "plt.xlabel('Predicted label')\n",
        "plt.ylabel('True label')\n",
        "plt.show()\n"
      ]
    }
  ]
}