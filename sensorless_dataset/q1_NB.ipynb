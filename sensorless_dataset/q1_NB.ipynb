{
  "nbformat": 4,
  "nbformat_minor": 0,
  "metadata": {
    "colab": {
      "provenance": []
    },
    "kernelspec": {
      "name": "python3",
      "display_name": "Python 3"
    },
    "language_info": {
      "name": "python"
    }
  },
  "cells": [
    {
      "cell_type": "code",
      "source": [
        "import pandas as pd\n",
        "import numpy as np\n",
        "from sklearn.naive_bayes import GaussianNB\n",
        "from sklearn.model_selection import GridSearchCV, RandomizedSearchCV, cross_val_score, train_test_split\n",
        "from sklearn.metrics import accuracy_score, confusion_matrix, classification_report\n",
        "\n",
        "# Load the dataset\n",
        "url = \"https://archive.ics.uci.edu/ml/machine-learning-databases/00325/Sensorless_drive_diagnosis.txt\"\n",
        "data = pd.read_csv(url, sep=\" \", header=None)\n",
        "\n",
        "# Separate the features and target variables\n",
        "X = data.iloc[:, :-1]\n",
        "y = data.iloc[:, -1]\n",
        "\n",
        "# Split the data into training and testing sets\n",
        "X_train, X_test, y_train, y_test = train_test_split(X, y, test_size=0.1, random_state=42)\n",
        "\n",
        "# Define the model\n",
        "model = GaussianNB()\n",
        "\n",
        "# Define the parameter grid for grid search and random search\n",
        "param_grid = {'var_smoothing': np.logspace(0, -12, num=50)}\n",
        "random_grid = {'var_smoothing': np.logspace(0, -12, num=50)}\n",
        "\n",
        "# Perform grid search with 5-fold cross validation\n",
        "grid_search = GridSearchCV(model, param_grid, cv=10, n_jobs=-1, scoring='accuracy')\n",
        "grid_search.fit(X_train, y_train)\n",
        "best_params_grid = grid_search.best_params_\n",
        "print('Best parameters (Grid Search):', best_params_grid)\n",
        "\n",
        "# Perform random search with 5-fold cross validation\n",
        "random_search = RandomizedSearchCV(model, random_grid, cv=10, n_jobs=-1, scoring='accuracy')\n",
        "random_search.fit(X_train, y_train)\n",
        "best_params_random = random_search.best_params_\n",
        "print('Best parameters (Random Search):', best_params_random)\n",
        "\n",
        "# Perform k-fold cross validation\n",
        "cv_scores = cross_val_score(model, X_train, y_train, cv=10, scoring='accuracy')\n",
        "print('Cross-validation scores:', cv_scores)\n",
        "print('Mean cross-validation score:', np.mean(cv_scores))\n",
        "\n",
        "# Train and predict using the model with the best parameters from grid search\n",
        "model_best = GaussianNB(var_smoothing=best_params_grid['var_smoothing'])\n",
        "model_best.fit(X_train, y_train)\n",
        "y_pred = model_best.predict(X_test)\n",
        "\n",
        "# Calculate the accuracy, confusion matrix, and classification report\n",
        "accuracy = accuracy_score(y_test, y_pred)\n",
        "conf_matrix = confusion_matrix(y_test, y_pred)\n",
        "class_report = classification_report(y_test, y_pred)\n",
        "print('Accuracy:', accuracy)\n",
        "print('Confusion matrix:\\n', conf_matrix)\n",
        "print('Classification report:\\n', class_report)"
      ],
      "metadata": {
        "id": "Need2hmAknJU",
        "colab": {
          "base_uri": "https://localhost:8080/"
        },
        "outputId": "390f839a-8d17-4fe7-a95c-ca3c11afd14e"
      },
      "execution_count": null,
      "outputs": [
        {
          "output_type": "stream",
          "name": "stdout",
          "text": [
            "Best parameters (Grid Search): {'var_smoothing': 1.5264179671752366e-09}\n",
            "Best parameters (Random Search): {'var_smoothing': 2.6826957952797275e-09}\n",
            "Cross-validation scores: [0.75541208 0.74952526 0.75332321 0.73775161 0.7459172  0.75560197\n",
            " 0.74401823 0.75655146 0.75688509 0.7711301 ]\n",
            "Mean cross-validation score: 0.7526116220128121\n",
            "Accuracy: 0.7552555118783114\n",
            "Confusion matrix:\n",
            " [[515   0   0   0   0   4   0   0  13   0   0]\n",
            " [  0 323   0   0   0   0   0   0  23 188   1]\n",
            " [  0   0 500  11   7   0   0   0   0   0   0]\n",
            " [  0   1  30 472   0   0   1   0   0   0   0]\n",
            " [  0   0 131 147  85   0   0 152   0   0   0]\n",
            " [247   1  27   0   0 152   0   3 108   0   0]\n",
            " [  0   1   0   0   0   0 541   0   0   0   0]\n",
            " [  0   1  18  39  10   0   0 463   0   0   0]\n",
            " [103   1   2   0   0 108   0   0 309   1   0]\n",
            " [  0  43   0   0   0   0   0   0   9 475   0]\n",
            " [  0   1   0   0   0   0   0   0   0   0 584]]\n",
            "Classification report:\n",
            "               precision    recall  f1-score   support\n",
            "\n",
            "           1       0.60      0.97      0.74       532\n",
            "           2       0.87      0.60      0.71       535\n",
            "           3       0.71      0.97      0.82       518\n",
            "           4       0.71      0.94      0.80       504\n",
            "           5       0.83      0.17      0.28       515\n",
            "           6       0.58      0.28      0.38       538\n",
            "           7       1.00      1.00      1.00       542\n",
            "           8       0.75      0.87      0.81       531\n",
            "           9       0.67      0.59      0.63       524\n",
            "          10       0.72      0.90      0.80       527\n",
            "          11       1.00      1.00      1.00       585\n",
            "\n",
            "    accuracy                           0.76      5851\n",
            "   macro avg       0.76      0.75      0.72      5851\n",
            "weighted avg       0.77      0.76      0.73      5851\n",
            "\n"
          ]
        }
      ]
    }
  ]
}