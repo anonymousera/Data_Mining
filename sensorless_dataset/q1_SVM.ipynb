{
  "cells": [
    {
      "cell_type": "code",
      "execution_count": null,
      "metadata": {
        "id": "Iqqlz0ozi6wS"
      },
      "outputs": [],
      "source": [
        "import numpy as np\n",
        "import pandas as pd\n",
        "from sklearn.svm import SVC\n",
        "from sklearn.model_selection import GridSearchCV, RandomizedSearchCV, KFold\n",
        "from sklearn.metrics import accuracy_score, confusion_matrix\n",
        "import matplotlib.pyplot as plt"
      ]
    },
    {
      "cell_type": "markdown",
      "metadata": {
        "id": "Vkfz0vG5Rynn"
      },
      "source": [
        "Load dataset"
      ]
    },
    {
      "cell_type": "code",
      "execution_count": null,
      "metadata": {
        "id": "XkfQuixSRX9R"
      },
      "outputs": [],
      "source": [
        "# Load dataset\n",
        "url = \"https://archive.ics.uci.edu/ml/machine-learning-databases/00325/Sensorless_drive_diagnosis.txt\"\n",
        "data = pd.read_csv(url, sep=\" \", header=None)"
      ]
    },
    {
      "cell_type": "markdown",
      "metadata": {
        "id": "AB9chCOTR5hZ"
      },
      "source": [
        "Perform grid search"
      ]
    },
    {
      "cell_type": "code",
      "execution_count": null,
      "metadata": {
        "id": "BDcVPuu9Rcf3"
      },
      "outputs": [],
      "source": [
        "# Split features and labels\n",
        "X = data.iloc[:, :-1].values\n",
        "y = data.iloc[:, -1].values\n",
        "\n",
        "# Define SVM classifier\n",
        "svm_clf = SVC()\n",
        "\n",
        "# Define parameter grid for grid search\n",
        "param_grid = {'C': [10], \n",
        "              'kernel': ['linear', 'rbf', 'sigmoid'], \n",
        "              'gamma': ['scale', 'auto']\n",
        "              }\n",
        "\n",
        "# Perform grid search\n",
        "grid_search = GridSearchCV(svm_clf, param_grid, cv=5)\n",
        "grid_search.fit(X, y)\n",
        "\n",
        "# Print best parameters and accuracy\n",
        "print(\"Best parameters: \", grid_search.best_params_)\n",
        "print(\"Accuracy: \", grid_search.best_score_)"
      ]
    },
    {
      "cell_type": "markdown",
      "metadata": {
        "id": "AAjbIGNGR73g"
      },
      "source": [
        "Perform random search"
      ]
    },
    {
      "cell_type": "code",
      "execution_count": null,
      "metadata": {
        "id": "IyF7iZLSRF-a"
      },
      "outputs": [],
      "source": [
        "# Define parameter grid for random search\n",
        "param_dist = {'C': np.logspace(-3, 3, 7), 'kernel': ['linear', 'rbf', 'sigmoid'], 'gamma': ['scale', 'auto']}\n",
        "n_iter_search = 20\n",
        "\n",
        "# Perform random search\n",
        "random_search = RandomizedSearchCV(svm_clf, param_distributions=param_dist, n_iter=n_iter_search, cv=5)\n",
        "random_search.fit(X, y)\n",
        "\n",
        "# Print best parameters and accuracy\n",
        "print(\"Best parameters: \", random_search.best_params_)\n",
        "print(\"Accuracy: \", random_search.best_score_)"
      ]
    },
    {
      "cell_type": "markdown",
      "metadata": {
        "id": "McqkFuy2R-44"
      },
      "source": [
        "Train and evaluate SVM classifier with k-fold cross-validation"
      ]
    },
    {
      "cell_type": "code",
      "source": [
        "# Define k-fold cross-validation\n",
        "kf = KFold(n_splits=5)\n",
        "\n",
        "# Train and evaluate SVM classifier with k-fold cross-validation\n",
        "accuracy_scores = []\n",
        "conf_matrices = []\n",
        "for train_idx, test_idx in kf.split(X):\n",
        "    # Split data\n",
        "    X_train, X_test = X[train_idx], X[test_idx]\n",
        "    y_train, y_test = y[train_idx], y[test_idx]\n",
        "    \n",
        "    # Train SVM classifier\n",
        "    svm_clf = SVC(C=random_search.best_params_['C'], kernel=random_search.best_params_['kernel'])\n",
        "    svm_clf.fit(X_train, y_train)\n",
        "    \n",
        "    # Evaluate SVM classifier\n",
        "    y_pred = svm_clf.predict(X_test)\n",
        "    accuracy = accuracy_score(y_test, y_pred)\n",
        "    conf_matrix = confusion_matrix(y_test, y_pred)\n",
        "    accuracy_scores.append(accuracy)\n",
        "    conf_matrices.append(conf_matrix)"
      ],
      "metadata": {
        "id": "UnXSJ6fELtbx"
      },
      "execution_count": null,
      "outputs": []
    },
    {
      "cell_type": "markdown",
      "metadata": {
        "id": "5OO4d8TjSAw3"
      },
      "source": [
        "Print average accuracy and confusion matrix"
      ]
    },
    {
      "cell_type": "code",
      "execution_count": null,
      "metadata": {
        "id": "9480WKZHRrSv",
        "colab": {
          "base_uri": "https://localhost:8080/"
        },
        "outputId": "0360fd20-c6d5-4845-c48d-a89c8a15b781"
      },
      "outputs": [
        {
          "output_type": "stream",
          "name": "stdout",
          "text": [
            "[[   0    0    0    0    0    0    0    0    0    0    0]\n",
            " [   0    0    0    0    0    0    0    0    0    0    0]\n",
            " [   0    0    0    0    0    0    0    0    0    0    0]\n",
            " [   0    0    0    0    0    0    0    0    0    0    0]\n",
            " [   0    0    0    0    0    0    0    0    0    0    0]\n",
            " [   0    0    0    0    0    0    0    0    0    0    0]\n",
            " [   0    0    0    0    0    0    0    0    0    0    0]\n",
            " [   0    0    0    0    0    0    0    0    0    0    0]\n",
            " [  42   54    0   31    1  132    0  267  533    3    0]\n",
            " [ 568  439 1757  114  246  402    1  456  659  656   21]\n",
            " [  13   35    7    6    4   25    1   37   17    5 5169]]\n",
            "Average accuracy:  0.10942648047105344\n",
            "Confusion matrix:  [[0.0000e+00 0.0000e+00 9.8200e+01 2.9200e+01 1.3860e+02 2.4440e+02\n",
            "  1.4000e+00 9.9600e+01 1.7260e+02 2.7120e+02 8.6000e+00]\n",
            " [0.0000e+00 0.0000e+00 5.7400e+01 2.5400e+01 8.4000e+01 2.2280e+02\n",
            "  4.2000e+00 7.3000e+01 2.1440e+02 3.7240e+02 1.0200e+01]\n",
            " [1.8540e+02 5.2600e+01 8.4000e+00 1.7000e+01 6.3000e+01 9.7000e+01\n",
            "  8.3800e+01 1.8480e+02 1.1040e+02 2.5840e+02 3.0000e+00]\n",
            " [1.5360e+02 4.0200e+01 2.0000e+00 0.0000e+00 0.0000e+00 5.1000e+01\n",
            "  2.1680e+02 3.8380e+02 1.8420e+02 2.9400e+01 2.8000e+00]\n",
            " [1.7660e+02 5.9600e+01 1.5400e+02 9.1000e+01 4.0000e-01 2.8800e+01\n",
            "  3.5400e+01 3.2820e+02 1.5040e+02 3.6800e+01 2.6000e+00]\n",
            " [1.4600e+02 1.1340e+02 3.4700e+02 3.2800e+01 5.8000e+00 0.0000e+00\n",
            "  0.0000e+00 1.9020e+02 1.5340e+02 6.9200e+01 6.0000e+00]\n",
            " [6.5400e+01 3.9000e+01 4.6680e+02 2.6660e+02 7.9600e+01 4.9000e+01\n",
            "  0.0000e+00 6.1400e+01 2.0200e+01 1.5000e+01 8.0000e-01]\n",
            " [8.6400e+01 5.7200e+01 2.6320e+02 2.0340e+02 2.3900e+02 1.7700e+02\n",
            "  9.0000e+00 0.0000e+00 0.0000e+00 2.0200e+01 8.4000e+00]\n",
            " [1.2440e+02 7.3800e+01 2.1680e+02 1.1440e+02 1.7820e+02 1.2340e+02\n",
            "  3.0000e+00 5.3400e+01 1.0660e+02 6.0200e+01 9.6000e+00]\n",
            " [1.1360e+02 8.7800e+01 3.5140e+02 2.2800e+01 4.9200e+01 8.0400e+01\n",
            "  2.0000e-01 9.1200e+01 1.3180e+02 1.3120e+02 4.2000e+00]\n",
            " [2.6000e+00 7.0000e+00 1.4000e+00 1.2000e+00 8.0000e-01 5.0000e+00\n",
            "  2.0000e-01 7.4000e+00 3.4000e+00 1.0000e+00 1.0338e+03]]\n"
          ]
        }
      ],
      "source": [
        "# Print average accuracy and confusion matrix\n",
        "print(conf_matrix)\n",
        "print(\"Average accuracy: \", np.mean(accuracy_scores))\n",
        "print(\"Confusion matrix: \", np.mean(conf_matrices, axis=0))"
      ]
    },
    {
      "cell_type": "markdown",
      "metadata": {
        "id": "9I2XD9dZSCjf"
      },
      "source": [
        "Plot confusion matrix"
      ]
    },
    {
      "cell_type": "code",
      "execution_count": null,
      "metadata": {
        "id": "vFam7X4TRwJB",
        "colab": {
          "base_uri": "https://localhost:8080/",
          "height": 279
        },
        "outputId": "94b4f725-dbed-487c-c611-6c3cba7e6024"
      },
      "outputs": [
        {
          "output_type": "display_data",
          "data": {
            "text/plain": [
              "<Figure size 432x288 with 2 Axes>"
            ],
            "image/png": "[encoded data removed]"
          },
          "metadata": {
            "needs_background": "light"
          }
        }
      ],
      "source": [
        "# Plot confusion matrix\n",
        "plt.imshow(np.mean(conf_matrices, axis=0), cmap=plt.cm.Blues, interpolation='nearest')\n",
        "plt.colorbar()\n",
        "plt.xticks(np.arange(11))\n",
        "plt.yticks(np.arange(11))\n",
        "plt.xlabel(\"Predicted label\")\n",
        "plt.ylabel(\"True label\")\n",
        "plt.show()"
      ]
    }
  ],
  "metadata": {
    "colab": {
      "provenance": []
    },
    "kernelspec": {
      "display_name": "Python 3",
      "name": "python3"
    },
    "language_info": {
      "name": "python"
    }
  },
  "nbformat": 4,
  "nbformat_minor": 0
}